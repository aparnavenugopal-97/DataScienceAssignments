{
 "cells": [
  {
   "cell_type": "code",
   "execution_count": 1,
   "id": "2fb8fe9f",
   "metadata": {
    "ExecuteTime": {
     "end_time": "2021-08-29T08:50:54.501150Z",
     "start_time": "2021-08-29T08:50:54.486985Z"
    }
   },
   "outputs": [],
   "source": [
    "import numpy as np"
   ]
  },
  {
   "cell_type": "code",
   "execution_count": 2,
   "id": "1745b54b",
   "metadata": {
    "ExecuteTime": {
     "end_time": "2021-08-29T08:51:07.434238Z",
     "start_time": "2021-08-29T08:51:05.234119Z"
    }
   },
   "outputs": [],
   "source": [
    "from scipy import stats"
   ]
  },
  {
   "cell_type": "code",
   "execution_count": 3,
   "id": "e267ad90",
   "metadata": {
    "ExecuteTime": {
     "end_time": "2021-08-29T08:51:35.771779Z",
     "start_time": "2021-08-29T08:51:35.748352Z"
    }
   },
   "outputs": [],
   "source": [
    "from scipy.stats import norm"
   ]
  },
  {
   "cell_type": "code",
   "execution_count": 7,
   "id": "92324bdf",
   "metadata": {
    "ExecuteTime": {
     "end_time": "2021-08-29T08:53:11.457889Z",
     "start_time": "2021-08-29T08:53:11.450050Z"
    }
   },
   "outputs": [],
   "source": [
    "mean = 5+7"
   ]
  },
  {
   "cell_type": "code",
   "execution_count": 8,
   "id": "bfeb33d1",
   "metadata": {
    "ExecuteTime": {
     "end_time": "2021-08-29T08:53:25.655262Z",
     "start_time": "2021-08-29T08:53:25.637097Z"
    }
   },
   "outputs": [
    {
     "data": {
      "text/plain": [
       "540"
      ]
     },
     "execution_count": 8,
     "metadata": {},
     "output_type": "execute_result"
    }
   ],
   "source": [
    "mean*45 #mean in Rs range"
   ]
  },
  {
   "cell_type": "code",
   "execution_count": 5,
   "id": "f7458d5c",
   "metadata": {
    "ExecuteTime": {
     "end_time": "2021-08-29T08:52:44.975911Z",
     "start_time": "2021-08-29T08:52:44.963669Z"
    }
   },
   "outputs": [],
   "source": [
    "sd = np.sqrt(9+16)"
   ]
  },
  {
   "cell_type": "code",
   "execution_count": 9,
   "id": "2495461c",
   "metadata": {
    "ExecuteTime": {
     "end_time": "2021-08-29T08:53:33.274327Z",
     "start_time": "2021-08-29T08:53:33.252733Z"
    }
   },
   "outputs": [
    {
     "data": {
      "text/plain": [
       "225.0"
      ]
     },
     "execution_count": 9,
     "metadata": {},
     "output_type": "execute_result"
    }
   ],
   "source": [
    "sd*45 #sd in Rs range"
   ]
  },
  {
   "cell_type": "markdown",
   "id": "3eeabf8d",
   "metadata": {},
   "source": [
    "(A) specify a Rs range (centered on the mean) such that it contain 95% probability for the annual profit of the company"
   ]
  },
  {
   "cell_type": "code",
   "execution_count": 10,
   "id": "fd4935a2",
   "metadata": {
    "ExecuteTime": {
     "end_time": "2021-08-29T08:55:58.550385Z",
     "start_time": "2021-08-29T08:55:58.520407Z"
    }
   },
   "outputs": [
    {
     "data": {
      "text/plain": [
       "(99.00810347848784, 980.9918965215122)"
      ]
     },
     "execution_count": 10,
     "metadata": {},
     "output_type": "execute_result"
    }
   ],
   "source": [
    "stats.norm.interval(0.95,540,225)"
   ]
  },
  {
   "cell_type": "markdown",
   "id": "be913638",
   "metadata": {},
   "source": [
    "(B) specify the 5th percentile of profit (in Rs) for the company "
   ]
  },
  {
   "cell_type": "code",
   "execution_count": 15,
   "id": "8759eb1b",
   "metadata": {
    "ExecuteTime": {
     "end_time": "2021-08-29T12:43:29.886467Z",
     "start_time": "2021-08-29T12:43:29.872113Z"
    }
   },
   "outputs": [
    {
     "data": {
      "text/plain": [
       "-1.6448536269514729"
      ]
     },
     "execution_count": 15,
     "metadata": {},
     "output_type": "execute_result"
    }
   ],
   "source": [
    "stats.norm.ppf(0.05)"
   ]
  },
  {
   "cell_type": "code",
   "execution_count": 16,
   "id": "e456cf95",
   "metadata": {
    "ExecuteTime": {
     "end_time": "2021-08-29T12:45:12.823244Z",
     "start_time": "2021-08-29T12:45:12.816519Z"
    }
   },
   "outputs": [],
   "source": [
    "X=540+(-1.645)*225"
   ]
  },
  {
   "cell_type": "code",
   "execution_count": 17,
   "id": "d5d993b7",
   "metadata": {
    "ExecuteTime": {
     "end_time": "2021-08-29T12:45:15.558021Z",
     "start_time": "2021-08-29T12:45:15.541462Z"
    }
   },
   "outputs": [
    {
     "data": {
      "text/plain": [
       "169.875"
      ]
     },
     "execution_count": 17,
     "metadata": {},
     "output_type": "execute_result"
    }
   ],
   "source": [
    "X"
   ]
  },
  {
   "cell_type": "markdown",
   "id": "d3e7a73e",
   "metadata": {},
   "source": [
    "(c) which divisions has a larger probability of making a loss in a given year?"
   ]
  },
  {
   "cell_type": "code",
   "execution_count": 18,
   "id": "4fa444fb",
   "metadata": {
    "ExecuteTime": {
     "end_time": "2021-08-29T12:47:59.306789Z",
     "start_time": "2021-08-29T12:47:59.292643Z"
    }
   },
   "outputs": [
    {
     "data": {
      "text/plain": [
       "0.0477903522728147"
      ]
     },
     "execution_count": 18,
     "metadata": {},
     "output_type": "execute_result"
    }
   ],
   "source": [
    "#div1\n",
    "stats.norm.cdf(0,5,3)"
   ]
  },
  {
   "cell_type": "code",
   "execution_count": 19,
   "id": "4e2f0ade",
   "metadata": {
    "ExecuteTime": {
     "end_time": "2021-08-29T12:48:51.475633Z",
     "start_time": "2021-08-29T12:48:51.465094Z"
    }
   },
   "outputs": [
    {
     "data": {
      "text/plain": [
       "0.040059156863817086"
      ]
     },
     "execution_count": 19,
     "metadata": {},
     "output_type": "execute_result"
    }
   ],
   "source": [
    "#div2\n",
    "stats.norm.cdf(0,7,4)"
   ]
  },
  {
   "cell_type": "code",
   "execution_count": null,
   "id": "b6283e84",
   "metadata": {},
   "outputs": [],
   "source": []
  }
 ],
 "metadata": {
  "kernelspec": {
   "display_name": "Python 3",
   "language": "python",
   "name": "python3"
  },
  "language_info": {
   "codemirror_mode": {
    "name": "ipython",
    "version": 3
   },
   "file_extension": ".py",
   "mimetype": "text/x-python",
   "name": "python",
   "nbconvert_exporter": "python",
   "pygments_lexer": "ipython3",
   "version": "3.8.8"
  },
  "varInspector": {
   "cols": {
    "lenName": 16,
    "lenType": 16,
    "lenVar": 40
   },
   "kernels_config": {
    "python": {
     "delete_cmd_postfix": "",
     "delete_cmd_prefix": "del ",
     "library": "var_list.py",
     "varRefreshCmd": "print(var_dic_list())"
    },
    "r": {
     "delete_cmd_postfix": ") ",
     "delete_cmd_prefix": "rm(",
     "library": "var_list.r",
     "varRefreshCmd": "cat(var_dic_list()) "
    }
   },
   "types_to_exclude": [
    "module",
    "function",
    "builtin_function_or_method",
    "instance",
    "_Feature"
   ],
   "window_display": false
  }
 },
 "nbformat": 4,
 "nbformat_minor": 5
}
